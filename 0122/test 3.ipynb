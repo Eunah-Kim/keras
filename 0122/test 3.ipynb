{
 "cells": [
  {
   "cell_type": "code",
   "execution_count": 12,
   "metadata": {},
   "outputs": [],
   "source": [
    "import numpy as np\n",
    "import keras"
   ]
  },
  {
   "cell_type": "code",
   "execution_count": 16,
   "metadata": {},
   "outputs": [
    {
     "name": "stdout",
     "output_type": "stream",
     "text": [
      "Epoch 1/30\n",
      "10/10 [==============================] - 0s 28ms/step - loss: -31.8848 - accuracy: 0.2000\n",
      "Epoch 2/30\n",
      "10/10 [==============================] - 0s 200us/step - loss: -31.8848 - accuracy: 0.2000\n",
      "Epoch 3/30\n",
      "10/10 [==============================] - 0s 100us/step - loss: -31.8848 - accuracy: 0.2000\n",
      "Epoch 4/30\n",
      "10/10 [==============================] - 0s 200us/step - loss: -31.8848 - accuracy: 0.2000\n",
      "Epoch 5/30\n",
      "10/10 [==============================] - 0s 100us/step - loss: -31.8848 - accuracy: 0.2000\n",
      "Epoch 6/30\n",
      "10/10 [==============================] - 0s 199us/step - loss: -31.8848 - accuracy: 0.2000\n",
      "Epoch 7/30\n",
      "10/10 [==============================] - 0s 100us/step - loss: -31.8848 - accuracy: 0.2000\n",
      "Epoch 8/30\n",
      "10/10 [==============================] - 0s 200us/step - loss: -31.8848 - accuracy: 0.2000\n",
      "Epoch 9/30\n",
      "10/10 [==============================] - 0s 100us/step - loss: -31.8848 - accuracy: 0.2000\n",
      "Epoch 10/30\n",
      "10/10 [==============================] - 0s 200us/step - loss: -31.8848 - accuracy: 0.2000\n",
      "Epoch 11/30\n",
      "10/10 [==============================] - 0s 199us/step - loss: -31.8848 - accuracy: 0.2000\n",
      "Epoch 12/30\n",
      "10/10 [==============================] - 0s 199us/step - loss: -31.8848 - accuracy: 0.2000\n",
      "Epoch 13/30\n",
      "10/10 [==============================] - 0s 200us/step - loss: -31.8848 - accuracy: 0.2000\n",
      "Epoch 14/30\n",
      "10/10 [==============================] - 0s 199us/step - loss: -31.8848 - accuracy: 0.2000\n",
      "Epoch 15/30\n",
      "10/10 [==============================] - 0s 200us/step - loss: -31.8848 - accuracy: 0.2000\n",
      "Epoch 16/30\n",
      "10/10 [==============================] - 0s 100us/step - loss: -31.8848 - accuracy: 0.2000\n",
      "Epoch 17/30\n",
      "10/10 [==============================] - 0s 100us/step - loss: -31.8848 - accuracy: 0.2000\n",
      "Epoch 18/30\n",
      "10/10 [==============================] - 0s 100us/step - loss: -31.8848 - accuracy: 0.2000\n",
      "Epoch 19/30\n",
      "10/10 [==============================] - 0s 200us/step - loss: -31.8848 - accuracy: 0.2000\n",
      "Epoch 20/30\n",
      "10/10 [==============================] - 0s 200us/step - loss: -31.8848 - accuracy: 0.2000\n",
      "Epoch 21/30\n",
      "10/10 [==============================] - 0s 199us/step - loss: -31.8848 - accuracy: 0.2000\n",
      "Epoch 22/30\n",
      "10/10 [==============================] - 0s 199us/step - loss: -31.8848 - accuracy: 0.2000\n",
      "Epoch 23/30\n",
      "10/10 [==============================] - 0s 199us/step - loss: -31.8848 - accuracy: 0.2000\n",
      "Epoch 24/30\n",
      "10/10 [==============================] - 0s 199us/step - loss: -31.8848 - accuracy: 0.2000\n",
      "Epoch 25/30\n",
      "10/10 [==============================] - 0s 199us/step - loss: -31.8848 - accuracy: 0.2000\n",
      "Epoch 26/30\n",
      "10/10 [==============================] - 0s 100us/step - loss: -31.8848 - accuracy: 0.2000\n",
      "Epoch 27/30\n",
      "10/10 [==============================] - 0s 100us/step - loss: -31.8848 - accuracy: 0.2000\n",
      "Epoch 28/30\n",
      "10/10 [==============================] - 0s 100us/step - loss: -31.8848 - accuracy: 0.2000\n",
      "Epoch 29/30\n",
      "10/10 [==============================] - 0s 100us/step - loss: -31.8848 - accuracy: 0.2000\n",
      "Epoch 30/30\n",
      "10/10 [==============================] - 0s 100us/step - loss: -31.8848 - accuracy: 0.2000\n"
     ]
    },
    {
     "data": {
      "text/plain": [
       "<keras.callbacks.callbacks.History at 0x1fcdc77d978>"
      ]
     },
     "execution_count": 16,
     "metadata": {},
     "output_type": "execute_result"
    }
   ],
   "source": [
    "# 모델 3\n",
    "train_x3 = np.array([1, 2, 3, 4, 5, 6, 7, 8, 9, 10])\n",
    "train_y3 = np.array([1, 2, 3, 4, 5, 1, 2, 3, 4, 5])\n",
    "pre_X3 = [11, 12, 13]\n",
    "\n",
    "\n",
    "from keras import models, layers, activations, initializers, losses, optimizers, metrics\n",
    "from keras.models import Sequential\n",
    "from keras.layers import Dropout, Dense, BatchNormalization\n",
    "\n",
    "model3 = Sequential()\n",
    "model3.add(Dense(units = 160, activation = 'relu', input_dim=(1)))\n",
    "# model3.add(layers.BatchNormalization())\n",
    "model3.add(Dense(units = 160, activation = 'relu'))\n",
    "model3.add(Dense(units = 160, activation = 'relu'))\n",
    "model3.add(Dense(units=1, activation='softmax'))\n",
    "\n",
    "model3.compile(loss='binary_crossentropy', \n",
    "               optimizer='rmsprop', metrics=['accuracy'])\n",
    "\n",
    "model3.fit(train_x3, train_y3, epochs=30)"
   ]
  },
  {
   "cell_type": "code",
   "execution_count": 10,
   "metadata": {},
   "outputs": [],
   "source": [
    "pre_X3 = [[11, 12, 13]]\n",
    "pred_test3 = model3.predict(pre_X3)"
   ]
  },
  {
   "cell_type": "code",
   "execution_count": 11,
   "metadata": {},
   "outputs": [
    {
     "data": {
      "text/plain": [
       "array([[1.],\n",
       "       [1.],\n",
       "       [1.]], dtype=float32)"
      ]
     },
     "execution_count": 11,
     "metadata": {},
     "output_type": "execute_result"
    }
   ],
   "source": [
    "pred_test3"
   ]
  },
  {
   "cell_type": "code",
   "execution_count": null,
   "metadata": {},
   "outputs": [],
   "source": []
  }
 ],
 "metadata": {
  "kernelspec": {
   "display_name": "Python 3",
   "language": "python",
   "name": "python3"
  },
  "language_info": {
   "codemirror_mode": {
    "name": "ipython",
    "version": 3
   },
   "file_extension": ".py",
   "mimetype": "text/x-python",
   "name": "python",
   "nbconvert_exporter": "python",
   "pygments_lexer": "ipython3",
   "version": "3.7.3"
  }
 },
 "nbformat": 4,
 "nbformat_minor": 2
}
